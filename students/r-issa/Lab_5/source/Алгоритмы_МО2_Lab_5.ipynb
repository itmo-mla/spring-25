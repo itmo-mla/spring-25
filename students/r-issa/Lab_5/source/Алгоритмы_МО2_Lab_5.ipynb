{
  "nbformat": 4,
  "nbformat_minor": 0,
  "metadata": {
    "colab": {
      "provenance": []
    },
    "kernelspec": {
      "name": "python3",
      "display_name": "Python 3"
    },
    "language_info": {
      "name": "python"
    }
  },
  "cells": [
    {
      "cell_type": "markdown",
      "source": [
        "# 1. Import Libraries"
      ],
      "metadata": {
        "id": "vJOtOOAwiOww"
      }
    },
    {
      "cell_type": "code",
      "source": [
        "import numpy as np\n",
        "import pandas as pd\n",
        "import matplotlib.pyplot as plt\n",
        "import re\n",
        "import math\n",
        "import zipfile\n",
        "import os\n",
        "\n",
        "from google.colab import files\n",
        "from collections import defaultdict\n",
        "from datetime import datetime\n",
        "from sklearn.model_selection import train_test_split\n",
        "from scipy.sparse import csr_matrix\n",
        "from sklearn.preprocessing import LabelEncoder, MinMaxScaler\n",
        "from sklearn.metrics import mean_squared_error, mean_absolute_error\n",
        "from sklearn.model_selection import KFold, cross_val_score\n",
        "\n",
        "from sklearn.decomposition import TruncatedSVD"
      ],
      "metadata": {
        "id": "y6CQkA9ojOnA"
      },
      "execution_count": 4,
      "outputs": []
    },
    {
      "cell_type": "markdown",
      "source": [
        "# 2. Load the Dataset"
      ],
      "metadata": {
        "id": "6YpU51rzi3in"
      }
    },
    {
      "cell_type": "code",
      "source": [
        "uploaded = files.upload()"
      ],
      "metadata": {
        "colab": {
          "base_uri": "https://localhost:8080/",
          "height": 74
        },
        "id": "UF2QBlOMBlQ3",
        "outputId": "dd8ed3da-9fee-4ded-825b-c379021b3845"
      },
      "execution_count": 3,
      "outputs": [
        {
          "output_type": "display_data",
          "data": {
            "text/plain": [
              "<IPython.core.display.HTML object>"
            ],
            "text/html": [
              "\n",
              "     <input type=\"file\" id=\"files-afacb563-4832-44a0-b45f-1ac11ded0a17\" name=\"files[]\" multiple disabled\n",
              "        style=\"border:none\" />\n",
              "     <output id=\"result-afacb563-4832-44a0-b45f-1ac11ded0a17\">\n",
              "      Upload widget is only available when the cell has been executed in the\n",
              "      current browser session. Please rerun this cell to enable.\n",
              "      </output>\n",
              "      <script>// Copyright 2017 Google LLC\n",
              "//\n",
              "// Licensed under the Apache License, Version 2.0 (the \"License\");\n",
              "// you may not use this file except in compliance with the License.\n",
              "// You may obtain a copy of the License at\n",
              "//\n",
              "//      http://www.apache.org/licenses/LICENSE-2.0\n",
              "//\n",
              "// Unless required by applicable law or agreed to in writing, software\n",
              "// distributed under the License is distributed on an \"AS IS\" BASIS,\n",
              "// WITHOUT WARRANTIES OR CONDITIONS OF ANY KIND, either express or implied.\n",
              "// See the License for the specific language governing permissions and\n",
              "// limitations under the License.\n",
              "\n",
              "/**\n",
              " * @fileoverview Helpers for google.colab Python module.\n",
              " */\n",
              "(function(scope) {\n",
              "function span(text, styleAttributes = {}) {\n",
              "  const element = document.createElement('span');\n",
              "  element.textContent = text;\n",
              "  for (const key of Object.keys(styleAttributes)) {\n",
              "    element.style[key] = styleAttributes[key];\n",
              "  }\n",
              "  return element;\n",
              "}\n",
              "\n",
              "// Max number of bytes which will be uploaded at a time.\n",
              "const MAX_PAYLOAD_SIZE = 100 * 1024;\n",
              "\n",
              "function _uploadFiles(inputId, outputId) {\n",
              "  const steps = uploadFilesStep(inputId, outputId);\n",
              "  const outputElement = document.getElementById(outputId);\n",
              "  // Cache steps on the outputElement to make it available for the next call\n",
              "  // to uploadFilesContinue from Python.\n",
              "  outputElement.steps = steps;\n",
              "\n",
              "  return _uploadFilesContinue(outputId);\n",
              "}\n",
              "\n",
              "// This is roughly an async generator (not supported in the browser yet),\n",
              "// where there are multiple asynchronous steps and the Python side is going\n",
              "// to poll for completion of each step.\n",
              "// This uses a Promise to block the python side on completion of each step,\n",
              "// then passes the result of the previous step as the input to the next step.\n",
              "function _uploadFilesContinue(outputId) {\n",
              "  const outputElement = document.getElementById(outputId);\n",
              "  const steps = outputElement.steps;\n",
              "\n",
              "  const next = steps.next(outputElement.lastPromiseValue);\n",
              "  return Promise.resolve(next.value.promise).then((value) => {\n",
              "    // Cache the last promise value to make it available to the next\n",
              "    // step of the generator.\n",
              "    outputElement.lastPromiseValue = value;\n",
              "    return next.value.response;\n",
              "  });\n",
              "}\n",
              "\n",
              "/**\n",
              " * Generator function which is called between each async step of the upload\n",
              " * process.\n",
              " * @param {string} inputId Element ID of the input file picker element.\n",
              " * @param {string} outputId Element ID of the output display.\n",
              " * @return {!Iterable<!Object>} Iterable of next steps.\n",
              " */\n",
              "function* uploadFilesStep(inputId, outputId) {\n",
              "  const inputElement = document.getElementById(inputId);\n",
              "  inputElement.disabled = false;\n",
              "\n",
              "  const outputElement = document.getElementById(outputId);\n",
              "  outputElement.innerHTML = '';\n",
              "\n",
              "  const pickedPromise = new Promise((resolve) => {\n",
              "    inputElement.addEventListener('change', (e) => {\n",
              "      resolve(e.target.files);\n",
              "    });\n",
              "  });\n",
              "\n",
              "  const cancel = document.createElement('button');\n",
              "  inputElement.parentElement.appendChild(cancel);\n",
              "  cancel.textContent = 'Cancel upload';\n",
              "  const cancelPromise = new Promise((resolve) => {\n",
              "    cancel.onclick = () => {\n",
              "      resolve(null);\n",
              "    };\n",
              "  });\n",
              "\n",
              "  // Wait for the user to pick the files.\n",
              "  const files = yield {\n",
              "    promise: Promise.race([pickedPromise, cancelPromise]),\n",
              "    response: {\n",
              "      action: 'starting',\n",
              "    }\n",
              "  };\n",
              "\n",
              "  cancel.remove();\n",
              "\n",
              "  // Disable the input element since further picks are not allowed.\n",
              "  inputElement.disabled = true;\n",
              "\n",
              "  if (!files) {\n",
              "    return {\n",
              "      response: {\n",
              "        action: 'complete',\n",
              "      }\n",
              "    };\n",
              "  }\n",
              "\n",
              "  for (const file of files) {\n",
              "    const li = document.createElement('li');\n",
              "    li.append(span(file.name, {fontWeight: 'bold'}));\n",
              "    li.append(span(\n",
              "        `(${file.type || 'n/a'}) - ${file.size} bytes, ` +\n",
              "        `last modified: ${\n",
              "            file.lastModifiedDate ? file.lastModifiedDate.toLocaleDateString() :\n",
              "                                    'n/a'} - `));\n",
              "    const percent = span('0% done');\n",
              "    li.appendChild(percent);\n",
              "\n",
              "    outputElement.appendChild(li);\n",
              "\n",
              "    const fileDataPromise = new Promise((resolve) => {\n",
              "      const reader = new FileReader();\n",
              "      reader.onload = (e) => {\n",
              "        resolve(e.target.result);\n",
              "      };\n",
              "      reader.readAsArrayBuffer(file);\n",
              "    });\n",
              "    // Wait for the data to be ready.\n",
              "    let fileData = yield {\n",
              "      promise: fileDataPromise,\n",
              "      response: {\n",
              "        action: 'continue',\n",
              "      }\n",
              "    };\n",
              "\n",
              "    // Use a chunked sending to avoid message size limits. See b/62115660.\n",
              "    let position = 0;\n",
              "    do {\n",
              "      const length = Math.min(fileData.byteLength - position, MAX_PAYLOAD_SIZE);\n",
              "      const chunk = new Uint8Array(fileData, position, length);\n",
              "      position += length;\n",
              "\n",
              "      const base64 = btoa(String.fromCharCode.apply(null, chunk));\n",
              "      yield {\n",
              "        response: {\n",
              "          action: 'append',\n",
              "          file: file.name,\n",
              "          data: base64,\n",
              "        },\n",
              "      };\n",
              "\n",
              "      let percentDone = fileData.byteLength === 0 ?\n",
              "          100 :\n",
              "          Math.round((position / fileData.byteLength) * 100);\n",
              "      percent.textContent = `${percentDone}% done`;\n",
              "\n",
              "    } while (position < fileData.byteLength);\n",
              "  }\n",
              "\n",
              "  // All done.\n",
              "  yield {\n",
              "    response: {\n",
              "      action: 'complete',\n",
              "    }\n",
              "  };\n",
              "}\n",
              "\n",
              "scope.google = scope.google || {};\n",
              "scope.google.colab = scope.google.colab || {};\n",
              "scope.google.colab._files = {\n",
              "  _uploadFiles,\n",
              "  _uploadFilesContinue,\n",
              "};\n",
              "})(self);\n",
              "</script> "
            ]
          },
          "metadata": {}
        },
        {
          "output_type": "stream",
          "name": "stdout",
          "text": [
            "Saving archive.zip to archive (1).zip\n"
          ]
        }
      ]
    },
    {
      "cell_type": "code",
      "source": [
        "with zipfile.ZipFile(\"archive.zip\", \"r\") as zip_ref:\n",
        "    zip_ref.extractall(\"movielens\")\n",
        "\n",
        "# Optional: List extracted files\n",
        "os.listdir(\"movielens\")"
      ],
      "metadata": {
        "colab": {
          "base_uri": "https://localhost:8080/"
        },
        "id": "a-EN6DnLBtI_",
        "outputId": "c5ac8fd5-44c0-4615-fabe-ca40f11421ee"
      },
      "execution_count": 7,
      "outputs": [
        {
          "output_type": "execute_result",
          "data": {
            "text/plain": [
              "['genome_tags.csv',\n",
              " 'link.csv',\n",
              " 'movie.csv',\n",
              " 'rating.csv',\n",
              " 'genome_scores.csv',\n",
              " 'tag.csv']"
            ]
          },
          "metadata": {},
          "execution_count": 7
        }
      ]
    },
    {
      "cell_type": "code",
      "source": [
        "rating_path = '/content/movielens/rating.csv'\n",
        "rating_dataset = pd.read_csv(rating_path)\n",
        "print(\"Dataset Loaded:\\n\", rating_dataset.head())"
      ],
      "metadata": {
        "colab": {
          "base_uri": "https://localhost:8080/"
        },
        "id": "wPw8zkjai8lA",
        "outputId": "8367aee0-51ee-4e09-b5cb-fd26ac39b2c3"
      },
      "execution_count": 5,
      "outputs": [
        {
          "output_type": "stream",
          "name": "stdout",
          "text": [
            "Dataset Loaded:\n",
            "    userId  movieId  rating            timestamp\n",
            "0       1        2     3.5  2005-04-02 23:53:47\n",
            "1       1       29     3.5  2005-04-02 23:31:16\n",
            "2       1       32     3.5  2005-04-02 23:33:39\n",
            "3       1       47     3.5  2005-04-02 23:32:07\n",
            "4       1       50     3.5  2005-04-02 23:29:40\n"
          ]
        }
      ]
    },
    {
      "cell_type": "code",
      "source": [
        "movie_path = '/content/movielens/movie.csv'\n",
        "movie_dataset = pd.read_csv(movie_path)\n",
        "print(\"Dataset Loaded:\\n\", movie_dataset.head())"
      ],
      "metadata": {
        "colab": {
          "base_uri": "https://localhost:8080/"
        },
        "id": "evHpl4RQK_cQ",
        "outputId": "7a38f3e9-bcc8-4c88-fe6d-787f687c7994"
      },
      "execution_count": 6,
      "outputs": [
        {
          "output_type": "stream",
          "name": "stdout",
          "text": [
            "Dataset Loaded:\n",
            "    movieId                               title  \\\n",
            "0        1                    Toy Story (1995)   \n",
            "1        2                      Jumanji (1995)   \n",
            "2        3             Grumpier Old Men (1995)   \n",
            "3        4            Waiting to Exhale (1995)   \n",
            "4        5  Father of the Bride Part II (1995)   \n",
            "\n",
            "                                        genres  \n",
            "0  Adventure|Animation|Children|Comedy|Fantasy  \n",
            "1                   Adventure|Children|Fantasy  \n",
            "2                               Comedy|Romance  \n",
            "3                         Comedy|Drama|Romance  \n",
            "4                                       Comedy  \n"
          ]
        }
      ]
    },
    {
      "cell_type": "code",
      "source": [
        "print(rating_dataset.shape)"
      ],
      "metadata": {
        "colab": {
          "base_uri": "https://localhost:8080/"
        },
        "id": "IzhGJ-Cmjumh",
        "outputId": "f729d438-0e08-4302-a87b-4f73f5a949ee"
      },
      "execution_count": 7,
      "outputs": [
        {
          "output_type": "stream",
          "name": "stdout",
          "text": [
            "(20000263, 4)\n"
          ]
        }
      ]
    },
    {
      "cell_type": "code",
      "source": [
        "print(rating_dataset.isnull().sum())"
      ],
      "metadata": {
        "colab": {
          "base_uri": "https://localhost:8080/"
        },
        "id": "604Ylpkujxlv",
        "outputId": "7136e9a9-e37b-4cf5-a29e-240ecdb2ad40"
      },
      "execution_count": 8,
      "outputs": [
        {
          "output_type": "stream",
          "name": "stdout",
          "text": [
            "userId       0\n",
            "movieId      0\n",
            "rating       0\n",
            "timestamp    0\n",
            "dtype: int64\n"
          ]
        }
      ]
    },
    {
      "cell_type": "code",
      "source": [
        "print(rating_dataset.dtypes)"
      ],
      "metadata": {
        "colab": {
          "base_uri": "https://localhost:8080/"
        },
        "id": "nYjfun91jz63",
        "outputId": "511b6211-c6fe-4f7d-e588-7fbd7c423c16"
      },
      "execution_count": 9,
      "outputs": [
        {
          "output_type": "stream",
          "name": "stdout",
          "text": [
            "userId         int64\n",
            "movieId        int64\n",
            "rating       float64\n",
            "timestamp     object\n",
            "dtype: object\n"
          ]
        }
      ]
    },
    {
      "cell_type": "markdown",
      "source": [
        "# 3. Preprocess the Dataset"
      ],
      "metadata": {
        "id": "C20SzpH1kDNn"
      }
    },
    {
      "cell_type": "code",
      "source": [
        "rating_dataset = rating_dataset.drop(columns=['timestamp'])"
      ],
      "metadata": {
        "id": "lbsm8qEbMfLh"
      },
      "execution_count": 10,
      "outputs": []
    },
    {
      "cell_type": "code",
      "source": [
        "user_encoder = LabelEncoder()\n",
        "movie_encoder = LabelEncoder()\n",
        "\n",
        "rating_dataset['user_index'] = user_encoder.fit_transform(rating_dataset['userId'])\n",
        "rating_dataset['movie_index'] = movie_encoder.fit_transform(rating_dataset['movieId'])\n",
        "\n",
        "num_users = rating_dataset['user_index'].nunique()\n",
        "num_movies = rating_dataset['movie_index'].nunique()\n",
        "\n",
        "print(f\"Users: {num_users}, Movies: {num_movies}\")"
      ],
      "metadata": {
        "colab": {
          "base_uri": "https://localhost:8080/"
        },
        "id": "omxBmv2zMgEo",
        "outputId": "86c15598-f2e8-4cf9-b6b7-56dd9862e0e6"
      },
      "execution_count": 11,
      "outputs": [
        {
          "output_type": "stream",
          "name": "stdout",
          "text": [
            "Users: 138493, Movies: 26744\n"
          ]
        }
      ]
    },
    {
      "cell_type": "code",
      "source": [
        "train_data, test_data = train_test_split(\n",
        "    rating_dataset[['user_index', 'movie_index', 'rating']],\n",
        "    test_size=0.2,\n",
        "    random_state=42\n",
        ")"
      ],
      "metadata": {
        "id": "uKgUPyKHMnuA"
      },
      "execution_count": 12,
      "outputs": []
    },
    {
      "cell_type": "markdown",
      "source": [
        "# 4. Reference Latent Factor Model (LFM)"
      ],
      "metadata": {
        "id": "tRqu8r2skdum"
      }
    },
    {
      "cell_type": "code",
      "source": [
        "train_matrix = csr_matrix((\n",
        "    train_data['rating'],\n",
        "    (train_data['user_index'], train_data['movie_index'])\n",
        "), shape=(num_users, num_movies))"
      ],
      "metadata": {
        "id": "b1l3E4TUM2pf"
      },
      "execution_count": 13,
      "outputs": []
    },
    {
      "cell_type": "code",
      "source": [
        "n_components = 20\n",
        "\n",
        "svd_ref = TruncatedSVD(n_components=n_components, random_state=42)\n",
        "\n",
        "start_time = datetime.now()\n",
        "svd_ref.fit(train_matrix)\n",
        "end_time = datetime.now()\n",
        "\n",
        "train_time = (end_time - start_time).microseconds\n",
        "print(f\"Training time: {train_time:.2f} mcs\")"
      ],
      "metadata": {
        "id": "8byfqtuTmLsG",
        "colab": {
          "base_uri": "https://localhost:8080/"
        },
        "outputId": "701accbf-a0e7-4757-dc1c-7c26cdde5f7f"
      },
      "execution_count": 14,
      "outputs": [
        {
          "output_type": "stream",
          "name": "stdout",
          "text": [
            "Training time: 134427.00 mcs\n"
          ]
        }
      ]
    },
    {
      "cell_type": "code",
      "source": [
        "# Transform users in training data\n",
        "user_features = svd_ref.transform(train_matrix)\n",
        "item_features = svd_ref.components_.T"
      ],
      "metadata": {
        "id": "_ulG9sRmQLsx"
      },
      "execution_count": 15,
      "outputs": []
    },
    {
      "cell_type": "code",
      "source": [
        "test_preds = []\n",
        "test_truth = []\n",
        "\n",
        "for _, row in test_data.iterrows():\n",
        "    u = int(row['user_index'])\n",
        "    m = int(row['movie_index'])\n",
        "    true_rating = row['rating']\n",
        "\n",
        "    if u >= user_features.shape[0] or m >= item_features.shape[0]:\n",
        "        continue  # skip if out of bounds\n",
        "\n",
        "    pred_rating = np.dot(user_features[u], item_features[m])\n",
        "    pred_rating = np.clip(pred_rating, 0.5, 5.0)\n",
        "\n",
        "    test_preds.append(pred_rating)\n",
        "    test_truth.append(true_rating)"
      ],
      "metadata": {
        "id": "PY4dertHPKFA"
      },
      "execution_count": 16,
      "outputs": []
    },
    {
      "cell_type": "code",
      "source": [
        "# Compute MSE and then RMSE manually\n",
        "mse = mean_squared_error(test_truth, test_preds)\n",
        "rmse = np.sqrt(mse)\n",
        "\n",
        "# MAE is safe\n",
        "mae = mean_absolute_error(test_truth, test_preds)\n",
        "\n",
        "print(f\"Reference LFM (TruncatedSVD) RMSE: {rmse:.4f}\")\n",
        "print(f\"Reference LFM (TruncatedSVD) MAE:  {mae:.4f}\")"
      ],
      "metadata": {
        "colab": {
          "base_uri": "https://localhost:8080/"
        },
        "id": "XFQJ5CiUPLfo",
        "outputId": "f8755e78-0edc-4489-8a28-e499a38f0ae5"
      },
      "execution_count": 17,
      "outputs": [
        {
          "output_type": "stream",
          "name": "stdout",
          "text": [
            "Reference LFM (TruncatedSVD) RMSE: 2.6756\n",
            "Reference LFM (TruncatedSVD) MAE:  2.4302\n"
          ]
        }
      ]
    },
    {
      "cell_type": "markdown",
      "source": [
        "# 5. Custom Latent Factor Model (LFM)"
      ],
      "metadata": {
        "id": "523siaxenC4O"
      }
    },
    {
      "cell_type": "code",
      "source": [
        "class CustomTruncatedSVD:\n",
        "    def __init__(self, n_components=20, learning_rate=0.01, reg=0.1, n_iter=10):\n",
        "        self.n_components = n_components\n",
        "        self.lr = learning_rate\n",
        "        self.reg = reg\n",
        "        self.n_iter = n_iter\n",
        "\n",
        "    def fit(self, train_data, num_users, num_items, batch_size=100000):\n",
        "        self.num_users = num_users\n",
        "        self.num_items = num_items\n",
        "\n",
        "        self.P = np.random.normal(0, 0.01, (num_users, self.n_components))\n",
        "        self.Q = np.random.normal(0, 0.01, (num_items, self.n_components))\n",
        "\n",
        "        user_indices = train_data['user_index'].values.astype(np.int32)\n",
        "        item_indices = train_data['movie_index'].values.astype(np.int32)\n",
        "        ratings = train_data['rating'].values.astype(np.float32)\n",
        "\n",
        "        n_samples = len(ratings)\n",
        "\n",
        "        for epoch in range(self.n_iter):\n",
        "            perm = np.random.permutation(n_samples)\n",
        "            total_loss = 0\n",
        "\n",
        "            for start in range(0, n_samples, batch_size):\n",
        "                end = min(start + batch_size, n_samples)\n",
        "                batch_users = user_indices[perm[start:end]]\n",
        "                batch_items = item_indices[perm[start:end]]\n",
        "                batch_ratings = ratings[perm[start:end]]\n",
        "\n",
        "                pred = np.sum(self.P[batch_users] * self.Q[batch_items], axis=1)\n",
        "                err = np.clip(batch_ratings - pred, -10, 10)\n",
        "\n",
        "                dP = err[:, np.newaxis] * self.Q[batch_items] - self.reg * self.P[batch_users]\n",
        "                dQ = err[:, np.newaxis] * self.P[batch_users] - self.reg * self.Q[batch_items]\n",
        "\n",
        "                dP = np.clip(dP, -1, 1)\n",
        "                dQ = np.clip(dQ, -1, 1)\n",
        "\n",
        "                np.add.at(self.P, batch_users, self.lr * dP)\n",
        "                np.add.at(self.Q, batch_items, self.lr * dQ)\n",
        "\n",
        "                total_loss += np.sum(err ** 2)\n",
        "\n",
        "            rmse = np.sqrt(total_loss / n_samples)\n",
        "            print(f\"Epoch {epoch+1}/{self.n_iter}, RMSE: {rmse:.4f}\")\n",
        "\n",
        "    def predict(self, u, i):\n",
        "        if u >= self.P.shape[0] or i >= self.Q.shape[0]:\n",
        "            return 3.0  # default rating\n",
        "        return np.clip(np.dot(self.P[u], self.Q[i]), 0.5, 5.0)\n",
        "\n",
        "    def evaluate(self, test_data):\n",
        "        user_idx = test_data['user_index'].values.astype(np.int32)\n",
        "        item_idx = test_data['movie_index'].values.astype(np.int32)\n",
        "        true_ratings = test_data['rating'].values\n",
        "\n",
        "        valid_mask = (user_idx < self.P.shape[0]) & (item_idx < self.Q.shape[0])\n",
        "        user_idx = user_idx[valid_mask]\n",
        "        item_idx = item_idx[valid_mask]\n",
        "        true_ratings = true_ratings[valid_mask]\n",
        "\n",
        "        preds = np.sum(self.P[user_idx] * self.Q[item_idx], axis=1)\n",
        "        preds = np.clip(preds, 0.5, 5.0)\n",
        "\n",
        "        rmse = np.sqrt(mean_squared_error(true_ratings, preds))\n",
        "        mae = mean_absolute_error(true_ratings, preds)\n",
        "        return rmse, mae"
      ],
      "metadata": {
        "id": "s5ae9RFzTcaZ"
      },
      "execution_count": 18,
      "outputs": []
    },
    {
      "cell_type": "code",
      "source": [
        "n_components = 20\n",
        "\n",
        "svd_cus = CustomTruncatedSVD(n_components=n_components, learning_rate=0.01, reg=0.1, n_iter=10)\n",
        "\n",
        "start_time = datetime.now()\n",
        "svd_cus.fit(train_data, num_users, num_movies)\n",
        "end_time = datetime.now()\n",
        "\n",
        "train_time = (end_time - start_time).microseconds\n",
        "print(f\"Training time: {train_time:.2f} mcs\")"
      ],
      "metadata": {
        "colab": {
          "base_uri": "https://localhost:8080/"
        },
        "id": "99PdsxARTfRJ",
        "outputId": "5df55068-37a3-4bd9-fe93-efc276f4f507"
      },
      "execution_count": 19,
      "outputs": [
        {
          "output_type": "stream",
          "name": "stdout",
          "text": [
            "Epoch 1/10, RMSE: 2.3083\n",
            "Epoch 2/10, RMSE: 1.8703\n",
            "Epoch 3/10, RMSE: 1.7155\n",
            "Epoch 4/10, RMSE: 1.5887\n",
            "Epoch 5/10, RMSE: 1.4970\n",
            "Epoch 6/10, RMSE: 1.4356\n",
            "Epoch 7/10, RMSE: 1.4210\n",
            "Epoch 8/10, RMSE: 1.4307\n",
            "Epoch 9/10, RMSE: 1.4421\n",
            "Epoch 10/10, RMSE: 1.4495\n",
            "Training time: 909477.00 mcs\n"
          ]
        }
      ]
    },
    {
      "cell_type": "code",
      "source": [
        "rmse_custom, mae_custom = svd_cus.evaluate(test_data)\n",
        "print(f\"Custom LFM RMSE: {rmse_custom:.4f}\")\n",
        "print(f\"Custom LFM MAE:  {mae_custom:.4f}\")"
      ],
      "metadata": {
        "colab": {
          "base_uri": "https://localhost:8080/"
        },
        "id": "9-IFJYg5T3Q0",
        "outputId": "c8c4913b-88f9-4c1d-fd9d-55b02e3db07f"
      },
      "execution_count": 20,
      "outputs": [
        {
          "output_type": "stream",
          "name": "stdout",
          "text": [
            "Custom LFM RMSE: 1.2390\n",
            "Custom LFM MAE:  0.9036\n"
          ]
        }
      ]
    }
  ]
}