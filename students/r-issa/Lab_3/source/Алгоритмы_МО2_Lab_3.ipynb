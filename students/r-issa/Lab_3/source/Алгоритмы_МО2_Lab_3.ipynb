{
  "nbformat": 4,
  "nbformat_minor": 0,
  "metadata": {
    "colab": {
      "provenance": []
    },
    "kernelspec": {
      "name": "python3",
      "display_name": "Python 3"
    },
    "language_info": {
      "name": "python"
    }
  },
  "cells": [
    {
      "cell_type": "markdown",
      "source": [
        "# 1. Import Libraries"
      ],
      "metadata": {
        "id": "vJOtOOAwiOww"
      }
    },
    {
      "cell_type": "code",
      "source": [
        "import numpy as np\n",
        "import pandas as pd\n",
        "import matplotlib.pyplot as plt\n",
        "import re\n",
        "import math\n",
        "\n",
        "from collections import defaultdict\n",
        "from datetime import datetime\n",
        "from sklearn.model_selection import train_test_split\n",
        "from sklearn.feature_extraction.text import CountVectorizer\n",
        "from sklearn.preprocessing import LabelEncoder, MinMaxScaler\n",
        "from sklearn.metrics import accuracy_score, classification_report\n",
        "from sklearn.model_selection import KFold, cross_val_score\n",
        "\n",
        "from sklearn.naive_bayes import MultinomialNB"
      ],
      "metadata": {
        "id": "y6CQkA9ojOnA"
      },
      "execution_count": 46,
      "outputs": []
    },
    {
      "cell_type": "markdown",
      "source": [
        "# 2. Load the Dataset"
      ],
      "metadata": {
        "id": "6YpU51rzi3in"
      }
    },
    {
      "cell_type": "code",
      "source": [
        "path = '/content/spam.csv'\n",
        "dataset = pd.read_csv(path, encoding='ISO-8859-1')\n",
        "print(\"Dataset Loaded:\\n\", dataset.head())"
      ],
      "metadata": {
        "colab": {
          "base_uri": "https://localhost:8080/"
        },
        "id": "wPw8zkjai8lA",
        "outputId": "4ae9498e-302c-4e5c-c226-c77241a51971"
      },
      "execution_count": 47,
      "outputs": [
        {
          "output_type": "stream",
          "name": "stdout",
          "text": [
            "Dataset Loaded:\n",
            "      v1                                                 v2 Unnamed: 2  \\\n",
            "0   ham  Go until jurong point, crazy.. Available only ...        NaN   \n",
            "1   ham                      Ok lar... Joking wif u oni...        NaN   \n",
            "2  spam  Free entry in 2 a wkly comp to win FA Cup fina...        NaN   \n",
            "3   ham  U dun say so early hor... U c already then say...        NaN   \n",
            "4   ham  Nah I don't think he goes to usf, he lives aro...        NaN   \n",
            "\n",
            "  Unnamed: 3 Unnamed: 4  \n",
            "0        NaN        NaN  \n",
            "1        NaN        NaN  \n",
            "2        NaN        NaN  \n",
            "3        NaN        NaN  \n",
            "4        NaN        NaN  \n"
          ]
        }
      ]
    },
    {
      "cell_type": "code",
      "source": [
        "# Keep only the first two columns: 'v1' is label, 'v2' is message\n",
        "dataset = dataset[['v1', 'v2']]\n",
        "dataset.columns = ['label', 'message']\n",
        "print(dataset.head())"
      ],
      "metadata": {
        "colab": {
          "base_uri": "https://localhost:8080/"
        },
        "id": "j1dcFaYTju2f",
        "outputId": "f7f0c7a2-7194-4e8f-e5c9-40e2c3a409f3"
      },
      "execution_count": 48,
      "outputs": [
        {
          "output_type": "stream",
          "name": "stdout",
          "text": [
            "  label                                            message\n",
            "0   ham  Go until jurong point, crazy.. Available only ...\n",
            "1   ham                      Ok lar... Joking wif u oni...\n",
            "2  spam  Free entry in 2 a wkly comp to win FA Cup fina...\n",
            "3   ham  U dun say so early hor... U c already then say...\n",
            "4   ham  Nah I don't think he goes to usf, he lives aro...\n"
          ]
        }
      ]
    },
    {
      "cell_type": "code",
      "source": [
        "print(dataset.shape)"
      ],
      "metadata": {
        "colab": {
          "base_uri": "https://localhost:8080/"
        },
        "id": "IzhGJ-Cmjumh",
        "outputId": "208d99d0-7062-4d3a-c123-e824a4355393"
      },
      "execution_count": 49,
      "outputs": [
        {
          "output_type": "stream",
          "name": "stdout",
          "text": [
            "(5572, 2)\n"
          ]
        }
      ]
    },
    {
      "cell_type": "code",
      "source": [
        "print(dataset.isnull().sum())"
      ],
      "metadata": {
        "colab": {
          "base_uri": "https://localhost:8080/"
        },
        "id": "604Ylpkujxlv",
        "outputId": "5b9462dd-41d3-4948-ac7d-04ae441f3794"
      },
      "execution_count": 50,
      "outputs": [
        {
          "output_type": "stream",
          "name": "stdout",
          "text": [
            "label      0\n",
            "message    0\n",
            "dtype: int64\n"
          ]
        }
      ]
    },
    {
      "cell_type": "code",
      "source": [
        "print(dataset.dtypes)"
      ],
      "metadata": {
        "colab": {
          "base_uri": "https://localhost:8080/"
        },
        "id": "nYjfun91jz63",
        "outputId": "b7070492-0d95-4e0e-ec5c-7acaa1f5c18c"
      },
      "execution_count": 51,
      "outputs": [
        {
          "output_type": "stream",
          "name": "stdout",
          "text": [
            "label      object\n",
            "message    object\n",
            "dtype: object\n"
          ]
        }
      ]
    },
    {
      "cell_type": "markdown",
      "source": [
        "# 3. Preprocess the Dataset"
      ],
      "metadata": {
        "id": "C20SzpH1kDNn"
      }
    },
    {
      "cell_type": "code",
      "source": [
        "dataset['label'] = dataset['label'].map({'ham': 0, 'spam': 1})\n",
        "print(dataset.head())"
      ],
      "metadata": {
        "colab": {
          "base_uri": "https://localhost:8080/"
        },
        "id": "TKSfNeEekj1g",
        "outputId": "15e616e1-0e63-443c-89b2-32397dfe0f8e"
      },
      "execution_count": 52,
      "outputs": [
        {
          "output_type": "stream",
          "name": "stdout",
          "text": [
            "   label                                            message\n",
            "0      0  Go until jurong point, crazy.. Available only ...\n",
            "1      0                      Ok lar... Joking wif u oni...\n",
            "2      1  Free entry in 2 a wkly comp to win FA Cup fina...\n",
            "3      0  U dun say so early hor... U c already then say...\n",
            "4      0  Nah I don't think he goes to usf, he lives aro...\n"
          ]
        }
      ]
    },
    {
      "cell_type": "code",
      "source": [
        "def clean_text(text):\n",
        "    text = text.lower()\n",
        "    text = re.sub(r'[^a-z0-9\\s]', '', text)  # remove punctuation\n",
        "    return text\n",
        "\n",
        "dataset['clean_message'] = dataset['message'].apply(clean_text)\n",
        "print(dataset.head())"
      ],
      "metadata": {
        "colab": {
          "base_uri": "https://localhost:8080/"
        },
        "id": "ggC3DL9Zknbm",
        "outputId": "9087e33d-740a-4fbb-adaa-6d96e5e812ed"
      },
      "execution_count": 53,
      "outputs": [
        {
          "output_type": "stream",
          "name": "stdout",
          "text": [
            "   label                                            message  \\\n",
            "0      0  Go until jurong point, crazy.. Available only ...   \n",
            "1      0                      Ok lar... Joking wif u oni...   \n",
            "2      1  Free entry in 2 a wkly comp to win FA Cup fina...   \n",
            "3      0  U dun say so early hor... U c already then say...   \n",
            "4      0  Nah I don't think he goes to usf, he lives aro...   \n",
            "\n",
            "                                       clean_message  \n",
            "0  go until jurong point crazy available only in ...  \n",
            "1                            ok lar joking wif u oni  \n",
            "2  free entry in 2 a wkly comp to win fa cup fina...  \n",
            "3        u dun say so early hor u c already then say  \n",
            "4  nah i dont think he goes to usf he lives aroun...  \n"
          ]
        }
      ]
    },
    {
      "cell_type": "code",
      "source": [
        "vectorizer = CountVectorizer()\n",
        "X = vectorizer.fit_transform(dataset['clean_message'])  # sparse matrix\n",
        "y = dataset['label'].values\n",
        "\n",
        "X_train, X_test, y_train, y_test = train_test_split(X, y, test_size=0.2, random_state=42)\n",
        "\n",
        "print(dataset.dtypes)"
      ],
      "metadata": {
        "colab": {
          "base_uri": "https://localhost:8080/"
        },
        "id": "CzaF6k4ik5x3",
        "outputId": "275879f6-2d2c-4c26-9547-fa137a3e9dca"
      },
      "execution_count": 54,
      "outputs": [
        {
          "output_type": "stream",
          "name": "stdout",
          "text": [
            "label             int64\n",
            "message          object\n",
            "clean_message    object\n",
            "dtype: object\n"
          ]
        }
      ]
    },
    {
      "cell_type": "markdown",
      "source": [
        "# 4. Reference Naive Bayes Classifier"
      ],
      "metadata": {
        "id": "tRqu8r2skdum"
      }
    },
    {
      "cell_type": "code",
      "source": [
        "nbc_ref = MultinomialNB()\n",
        "\n",
        "start_time = datetime.now()\n",
        "nbc_ref.fit(X_train, y_train)\n",
        "end_time = datetime.now()\n",
        "\n",
        "y_pred = nbc_ref.predict(X_test)"
      ],
      "metadata": {
        "id": "8byfqtuTmLsG"
      },
      "execution_count": 55,
      "outputs": []
    },
    {
      "cell_type": "code",
      "source": [
        "# Metrics\n",
        "accuracy = accuracy_score(y_test, y_pred)\n",
        "execution_time = (end_time - start_time).microseconds\n",
        "report = classification_report(y_test, y_pred)\n",
        "\n",
        "print(f\"\\nReference Naive Bayes Classifier\")\n",
        "print(f\"\\nExecution Time: {execution_time} mcs\")\n",
        "print(f\"\\nR2 score: {accuracy:.4f}\")\n",
        "print(f\"\\nClassification Report:\\n{report}\")"
      ],
      "metadata": {
        "colab": {
          "base_uri": "https://localhost:8080/"
        },
        "id": "X1n7SvfUmcXv",
        "outputId": "a683a2ab-3811-4288-c182-9eca7c778b46"
      },
      "execution_count": 56,
      "outputs": [
        {
          "output_type": "stream",
          "name": "stdout",
          "text": [
            "\n",
            "Reference Naive Bayes Classifier\n",
            "\n",
            "Execution Time: 3311 mcs\n",
            "\n",
            "R2 score: 0.9785\n",
            "\n",
            "Classification Report:\n",
            "              precision    recall  f1-score   support\n",
            "\n",
            "           0       0.99      0.99      0.99       965\n",
            "           1       0.92      0.92      0.92       150\n",
            "\n",
            "    accuracy                           0.98      1115\n",
            "   macro avg       0.95      0.95      0.95      1115\n",
            "weighted avg       0.98      0.98      0.98      1115\n",
            "\n"
          ]
        }
      ]
    },
    {
      "cell_type": "code",
      "source": [
        "# Cross-Validation\n",
        "n_folds = 10\n",
        "\n",
        "cv = KFold(n_splits=n_folds, shuffle=True, random_state=42)\n",
        "scores_ref = cross_val_score(nbc_ref, X, y, scoring='accuracy', cv=cv)"
      ],
      "metadata": {
        "id": "ucw5q_evnIPn"
      },
      "execution_count": 57,
      "outputs": []
    },
    {
      "cell_type": "code",
      "source": [
        "print(f\"The mean Accuracy score for {n_folds} for the Reference Naive Bayes Classifier is: {scores_ref.mean():.4f}\")"
      ],
      "metadata": {
        "colab": {
          "base_uri": "https://localhost:8080/"
        },
        "id": "jir9ga-rnRJO",
        "outputId": "c4fe5774-ce80-43ba-a947-5b11d54f8f62"
      },
      "execution_count": 58,
      "outputs": [
        {
          "output_type": "stream",
          "name": "stdout",
          "text": [
            "The mean Accuracy score for 10 for the Reference Naive Bayes Classifier is: 0.9772\n"
          ]
        }
      ]
    },
    {
      "cell_type": "markdown",
      "source": [
        "# 5. Custom Bagging Regressor"
      ],
      "metadata": {
        "id": "523siaxenC4O"
      }
    },
    {
      "cell_type": "code",
      "source": [
        "class CustomMultinomialNB:\n",
        "    def __init__(self, alpha=1.0):\n",
        "        self.alpha = alpha  # Laplace smoothing\n",
        "        self.class_log_prior_ = {}\n",
        "        self.feature_log_prob_ = {}\n",
        "        self.classes_ = []\n",
        "        self.vocab_size = 0\n",
        "\n",
        "    def get_params(self, deep=True):\n",
        "        return {\"alpha\": self.alpha}\n",
        "\n",
        "    def set_params(self, **params):\n",
        "        for param, value in params.items():\n",
        "            setattr(self, param, value)\n",
        "        return self\n",
        "\n",
        "    def fit(self, X, y):\n",
        "        n_docs, n_features = X.shape\n",
        "        self.classes_ = np.unique(y)\n",
        "        self.vocab_size = n_features\n",
        "\n",
        "        # Count documents and total word counts per class\n",
        "        class_counts = defaultdict(int)\n",
        "        feature_counts = {cls: np.zeros(n_features) for cls in self.classes_}\n",
        "\n",
        "        for i in range(n_docs):\n",
        "            cls = y[i]\n",
        "            class_counts[cls] += 1\n",
        "            feature_counts[cls] += X[i].toarray()[0]\n",
        "\n",
        "        # Compute priors\n",
        "        total_docs = len(y)\n",
        "        for cls in self.classes_:\n",
        "            self.class_log_prior_[cls] = math.log(class_counts[cls] / total_docs)\n",
        "\n",
        "        # Compute conditional probabilities with Laplace smoothing\n",
        "        for cls in self.classes_:\n",
        "            total_words = np.sum(feature_counts[cls])\n",
        "            smoothed = feature_counts[cls] + self.alpha\n",
        "            self.feature_log_prob_[cls] = np.log(smoothed / (total_words + self.alpha * n_features))\n",
        "\n",
        "    def predict(self, X):\n",
        "        predictions = []\n",
        "        for i in range(X.shape[0]):\n",
        "            log_probs = {}\n",
        "            x_i = X[i].toarray()[0]\n",
        "\n",
        "            for cls in self.classes_:\n",
        "                log_prob = self.class_log_prior_[cls]\n",
        "                log_prob += np.sum(x_i * self.feature_log_prob_[cls])\n",
        "                log_probs[cls] = log_prob\n",
        "\n",
        "            predicted_class = max(log_probs, key=log_probs.get)\n",
        "            predictions.append(predicted_class)\n",
        "        return np.array(predictions)"
      ],
      "metadata": {
        "id": "FqJjqcndoefW"
      },
      "execution_count": 59,
      "outputs": []
    },
    {
      "cell_type": "code",
      "source": [
        "nbc_cus = CustomMultinomialNB()\n",
        "\n",
        "start_time = datetime.now()\n",
        "nbc_cus.fit(X_train, y_train)\n",
        "end_time = datetime.now()\n",
        "\n",
        "y_pred = nbc_cus.predict(X_test)"
      ],
      "metadata": {
        "id": "epQVzRI-o-1h"
      },
      "execution_count": 60,
      "outputs": []
    },
    {
      "cell_type": "code",
      "source": [
        "# Metrics\n",
        "accuracy = accuracy_score(y_test, y_pred)\n",
        "execution_time = (end_time - start_time).microseconds\n",
        "report = classification_report(y_test, y_pred)\n",
        "\n",
        "print(f\"\\nCustom Naive Bayes Classifier\")\n",
        "print(f\"\\nExecution Time: {execution_time} mcs\")\n",
        "print(f\"\\nR2 score: {accuracy:.4f}\")\n",
        "print(f\"\\nClassification Report:\\n{report}\")"
      ],
      "metadata": {
        "colab": {
          "base_uri": "https://localhost:8080/"
        },
        "outputId": "154f0473-e468-41ef-a48a-46933f17e779",
        "id": "zjQ003xqo-1i"
      },
      "execution_count": 61,
      "outputs": [
        {
          "output_type": "stream",
          "name": "stdout",
          "text": [
            "\n",
            "Custom Naive Bayes Classifier\n",
            "\n",
            "Execution Time: 373898 mcs\n",
            "\n",
            "R2 score: 0.9785\n",
            "\n",
            "Classification Report:\n",
            "              precision    recall  f1-score   support\n",
            "\n",
            "           0       0.99      0.99      0.99       965\n",
            "           1       0.92      0.92      0.92       150\n",
            "\n",
            "    accuracy                           0.98      1115\n",
            "   macro avg       0.95      0.95      0.95      1115\n",
            "weighted avg       0.98      0.98      0.98      1115\n",
            "\n"
          ]
        }
      ]
    },
    {
      "cell_type": "code",
      "source": [
        "# Cross-Validation\n",
        "n_folds = 10\n",
        "\n",
        "cv = KFold(n_splits=n_folds, shuffle=True, random_state=42)\n",
        "scores_cus = cross_val_score(nbc_cus, X, y, scoring='accuracy', cv=cv)"
      ],
      "metadata": {
        "id": "UK20xnEBpRX-"
      },
      "execution_count": 62,
      "outputs": []
    },
    {
      "cell_type": "code",
      "source": [
        "print(f\"The mean Accuracy score for {n_folds} for the Custom Naive Bayes Classifier is: {scores_cus.mean():.4f}\")"
      ],
      "metadata": {
        "colab": {
          "base_uri": "https://localhost:8080/"
        },
        "id": "LR7CAo94pdwm",
        "outputId": "5f4e6b5e-4382-4cc7-a066-9a65ef3be5c0"
      },
      "execution_count": 63,
      "outputs": [
        {
          "output_type": "stream",
          "name": "stdout",
          "text": [
            "The mean Accuracy score for 10 for the Custom Naive Bayes Classifier is: 0.9772\n"
          ]
        }
      ]
    }
  ]
}