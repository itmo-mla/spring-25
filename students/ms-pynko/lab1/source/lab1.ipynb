{
 "cells": [
  {
   "cell_type": "code",
   "execution_count": 7,
   "id": "6f852fa7-8f4c-4db2-8a5f-da580ec61413",
   "metadata": {},
   "outputs": [
    {
     "name": "stdout",
     "output_type": "stream",
     "text": [
      "The autoreload extension is already loaded. To reload it, use:\n",
      "  %reload_ext autoreload\n"
     ]
    }
   ],
   "source": [
    "%load_ext autoreload\n",
    "%autoreload 2\n",
    "from sklearn.exceptions import UndefinedMetricWarning\n",
    "import warnings\n",
    "warnings.filterwarnings(\"ignore\", category=UndefinedMetricWarning)\n"
   ]
  },
  {
   "cell_type": "code",
   "execution_count": 8,
   "id": "0a420854-e139-4d01-8a70-f12306aad50b",
   "metadata": {
    "scrolled": true
   },
   "outputs": [],
   "source": [
    "from main import hand_method, tree_method, sklearn_method"
   ]
  },
  {
   "cell_type": "code",
   "execution_count": 9,
   "id": "8a508056-3933-40ce-9cb0-ef678ab83599",
   "metadata": {},
   "outputs": [
    {
     "name": "stdout",
     "output_type": "stream",
     "text": [
      "=== Hand-made Bagging ===\n",
      "Accuracy hand method: 0.8148\n",
      "Recall hand method: 0.6116\n",
      "Precession hand method: 0.7364\n",
      "0.42587780952453613\n",
      "\n",
      "=== Single Decision Tree ===\n",
      "Single tree accuracy: 0.7037\n",
      "Single tree recall: 0.6233\n",
      "Single tree precession: 0.6660\n",
      "0.011001348495483398\n",
      "\n",
      "=== sklearn RandomForest ===\n",
      "Sklearn accuracy: 0.7778\n",
      "Sklearn recall: 0.6399\n",
      "Sklearn precession: 0.6708\n",
      "0.3717353343963623\n"
     ]
    }
   ],
   "source": [
    "print(\"=== Hand-made Bagging ===\")\n",
    "hand_method()\n",
    "\n",
    "print(\"\\n=== Single Decision Tree ===\")\n",
    "tree_method()\n",
    "\n",
    "print(\"\\n=== sklearn RandomForest ===\")\n",
    "sklearn_method()"
   ]
  },
  {
   "cell_type": "code",
   "execution_count": null,
   "id": "4a033472-5aba-46f1-b2b3-0b6e661ee282",
   "metadata": {},
   "outputs": [],
   "source": []
  }
 ],
 "metadata": {
  "kernelspec": {
   "display_name": "Python 3 (ipykernel)",
   "language": "python",
   "name": "python3"
  },
  "language_info": {
   "codemirror_mode": {
    "name": "ipython",
    "version": 3
   },
   "file_extension": ".py",
   "mimetype": "text/x-python",
   "name": "python",
   "nbconvert_exporter": "python",
   "pygments_lexer": "ipython3",
   "version": "3.12.6"
  }
 },
 "nbformat": 4,
 "nbformat_minor": 5
}
