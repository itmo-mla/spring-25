{
 "cells": [
  {
   "cell_type": "code",
   "execution_count": 12,
   "metadata": {},
   "outputs": [],
   "source": [
    "import numpy as np\n",
    "import pandas as pd\n",
    "from sklearn.datasets import fetch_california_housing\n",
    "from sklearn.model_selection import train_test_split, cross_val_score, KFold\n",
    "from sklearn.ensemble import GradientBoostingRegressor\n",
    "from sklearn.tree import DecisionTreeRegressor\n",
    "from sklearn.metrics import mean_squared_error, r2_score\n",
    "import time"
   ]
  },
  {
   "cell_type": "code",
   "execution_count": 13,
   "metadata": {},
   "outputs": [],
   "source": [
    "housing = fetch_california_housing()\n",
    "X, y = housing.data, housing.target\n",
    "feature_names = housing.feature_names"
   ]
  },
  {
   "cell_type": "code",
   "execution_count": null,
   "metadata": {},
   "outputs": [],
   "source": [
    "class CustomGradientBoostingRegressor:\n",
    "    def __init__(self, n_estimators=100, learning_rate=0.1, max_depth=3, random_state=None):\n",
    "        self.n_estimators = n_estimators\n",
    "        self.learning_rate = learning_rate\n",
    "        self.max_depth = max_depth\n",
    "        self.random_state = random_state\n",
    "        self.trees = []\n",
    "        self.initial_prediction = None\n",
    "    \n",
    "    def fit(self, X, y):\n",
    "        self.initial_prediction = np.mean(y)\n",
    "        F = np.full(len(y), self.initial_prediction)\n",
    "        \n",
    "        for i in range(self.n_estimators):\n",
    "            residuals = y - F #mse\n",
    "            \n",
    "            tree = DecisionTreeRegressor(max_depth=self.max_depth, random_state=self.random_state)\n",
    "            tree.fit(X, residuals)\n",
    "            \n",
    "            self.trees.append(tree)\n",
    "            \n",
    "            predictions = tree.predict(X)\n",
    "            F += self.learning_rate * predictions\n",
    "            \n",
    "        return self\n",
    "    \n",
    "    def predict(self, X):\n",
    "        predictions = np.full(X.shape[0], self.initial_prediction)\n",
    "        \n",
    "        for tree in self.trees:\n",
    "            predictions += self.learning_rate * tree.predict(X)\n",
    "            \n",
    "        return predictions\n",
    "\n",
    "def evaluate_model(model, X, y, cv=5):\n",
    "    kf = KFold(n_splits=cv, shuffle=True, random_state=42)\n",
    "    cv_scores = []\n",
    "    \n",
    "    for train_idx, test_idx in kf.split(X):\n",
    "        X_train, X_test = X[train_idx], X[test_idx]\n",
    "        y_train, y_test = y[train_idx], y[test_idx]\n",
    "        \n",
    "        model.fit(X_train, y_train)\n",
    "        \n",
    "        y_pred = model.predict(X_test)\n",
    "        mse = mean_squared_error(y_test, y_pred)\n",
    "        cv_scores.append(mse)\n",
    "    \n",
    "    return np.sqrt(np.mean(cv_scores))"
   ]
  },
  {
   "cell_type": "code",
   "execution_count": 15,
   "metadata": {},
   "outputs": [],
   "source": [
    "X_train, X_test, y_train, y_test = train_test_split(X, y, test_size=0.2, random_state=42)"
   ]
  },
  {
   "cell_type": "code",
   "execution_count": 16,
   "metadata": {},
   "outputs": [],
   "source": [
    "n_estimators = 100\n",
    "learning_rate = 0.1\n",
    "max_depth = 3"
   ]
  },
  {
   "cell_type": "code",
   "execution_count": 17,
   "metadata": {},
   "outputs": [
    {
     "name": "stdout",
     "output_type": "stream",
     "text": [
      "Custom model training time: 6.07 seconds\n"
     ]
    }
   ],
   "source": [
    "start_time = time.time()\n",
    "custom_gb = CustomGradientBoostingRegressor(\n",
    "    n_estimators=n_estimators, \n",
    "    learning_rate=learning_rate, \n",
    "    max_depth=max_depth,\n",
    "    random_state=42\n",
    ")\n",
    "custom_gb.fit(X_train, y_train)\n",
    "custom_train_time = time.time() - start_time\n",
    "print(f\"Custom model training time: {custom_train_time:.2f} seconds\")"
   ]
  },
  {
   "cell_type": "code",
   "execution_count": 18,
   "metadata": {},
   "outputs": [
    {
     "name": "stdout",
     "output_type": "stream",
     "text": [
      "Scikit-learn model training time: 5.56 seconds\n"
     ]
    }
   ],
   "source": [
    "start_time = time.time()\n",
    "sklearn_gb = GradientBoostingRegressor(\n",
    "    n_estimators=n_estimators, \n",
    "    learning_rate=learning_rate, \n",
    "    max_depth=max_depth,\n",
    "    random_state=42\n",
    ")\n",
    "sklearn_gb.fit(X_train, y_train)\n",
    "sklearn_train_time = time.time() - start_time\n",
    "print(f\"Scikit-learn model training time: {sklearn_train_time:.2f} seconds\")"
   ]
  },
  {
   "cell_type": "code",
   "execution_count": 19,
   "metadata": {},
   "outputs": [],
   "source": [
    "custom_y_pred = custom_gb.predict(X_test)\n",
    "sklearn_y_pred = sklearn_gb.predict(X_test)\n",
    "\n",
    "custom_rmse = np.sqrt(mean_squared_error(y_test, custom_y_pred))\n",
    "sklearn_rmse = np.sqrt(mean_squared_error(y_test, sklearn_y_pred))\n",
    "\n",
    "custom_r2 = r2_score(y_test, custom_y_pred)\n",
    "sklearn_r2 = r2_score(y_test, sklearn_y_pred)"
   ]
  },
  {
   "cell_type": "code",
   "execution_count": 20,
   "metadata": {},
   "outputs": [],
   "source": [
    "custom_cv_rmse = evaluate_model(custom_gb, X, y)\n",
    "sklearn_cv_rmse = evaluate_model(sklearn_gb, X, y)\n"
   ]
  },
  {
   "cell_type": "code",
   "execution_count": 21,
   "metadata": {},
   "outputs": [
    {
     "name": "stdout",
     "output_type": "stream",
     "text": [
      "Metric                   Custom Implementation    Scikit-learn             \n",
      "Training Time (seconds)  6.07                     5.56                     \n",
      "Test RMSE                0.5422                   0.5422                   \n",
      "Test R²                  0.7757                   0.7756                   \n",
      "Cross-validation RMSE    3.3080                   0.5316                   \n"
     ]
    }
   ],
   "source": [
    "print(f\"{'Metric':<25}{'Custom Implementation':<25}{'Scikit-learn':<25}\")\n",
    "print(f\"{'Training Time (seconds)':<25}{custom_train_time:<25.2f}{sklearn_train_time:<25.2f}\")\n",
    "print(f\"{'Test RMSE':<25}{custom_rmse:<25.4f}{sklearn_rmse:<25.4f}\")\n",
    "print(f\"{'Test R²':<25}{custom_r2:<25.4f}{sklearn_r2:<25.4f}\")\n",
    "print(f\"{'Cross-validation RMSE':<25}{custom_cv_rmse:<25.4f}{sklearn_cv_rmse:<25.4f}\")\n"
   ]
  }
 ],
 "metadata": {
  "kernelspec": {
   "display_name": "env",
   "language": "python",
   "name": "env"
  },
  "language_info": {
   "codemirror_mode": {
    "name": "ipython",
    "version": 3
   },
   "file_extension": ".py",
   "mimetype": "text/x-python",
   "name": "python",
   "nbconvert_exporter": "python",
   "pygments_lexer": "ipython3",
   "version": "3.11.9"
  }
 },
 "nbformat": 4,
 "nbformat_minor": 2
}
