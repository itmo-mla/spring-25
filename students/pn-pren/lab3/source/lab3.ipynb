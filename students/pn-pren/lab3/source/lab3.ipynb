{
 "cells": [
  {
   "cell_type": "code",
   "execution_count": 1,
   "metadata": {},
   "outputs": [],
   "source": [
    "import numpy as np\n",
    "import pandas as pd\n",
    "from sklearn.datasets import load_breast_cancer\n",
    "from sklearn.model_selection import train_test_split, cross_val_score, KFold\n",
    "from sklearn.preprocessing import StandardScaler\n",
    "from sklearn.naive_bayes import GaussianNB\n",
    "from sklearn.metrics import accuracy_score, classification_report, confusion_matrix\n",
    "import time\n",
    "import seaborn as sns\n",
    "\n",
    "import matplotlib.pyplot as plt\n"
   ]
  },
  {
   "cell_type": "code",
   "execution_count": 2,
   "metadata": {},
   "outputs": [
    {
     "name": "stdout",
     "output_type": "stream",
     "text": [
      "Samples: 569, Features: 30\n",
      "Classes: ['malignant' 'benign']\n"
     ]
    }
   ],
   "source": [
    "data = load_breast_cancer()\n",
    "X = data.data\n",
    "y = data.target\n",
    "feature_names = data.feature_names\n",
    "target_names = data.target_names\n",
    "\n",
    "print(f\"Samples: {X.shape[0]}, Features: {X.shape[1]}\")\n",
    "print(f\"Classes: {target_names}\")\n"
   ]
  },
  {
   "cell_type": "code",
   "execution_count": 3,
   "metadata": {},
   "outputs": [],
   "source": [
    "class CustomGaussianNB:\n",
    "    def __init__(self):\n",
    "        self.classes = None\n",
    "        self.priors = None\n",
    "        self.means = None\n",
    "        self.vars = None\n",
    "        \n",
    "    def fit(self, X, y):\n",
    "        # Get unique classes and their count\n",
    "        self.classes = np.unique(y)\n",
    "        n_classes = len(self.classes)\n",
    "        n_features = X.shape[1]\n",
    "        n_samples = X.shape[0]\n",
    "        \n",
    "        # Initialize parameters\n",
    "        self.priors = np.zeros(n_classes)\n",
    "        self.means = np.zeros((n_classes, n_features))\n",
    "        self.vars = np.zeros((n_classes, n_features))\n",
    "        \n",
    "        # Calculate mean, variance, and priors for each class\n",
    "        for i, c in enumerate(self.classes):\n",
    "            X_c = X[y == c]\n",
    "            self.priors[i] = X_c.shape[0] / n_samples\n",
    "            self.means[i] = np.mean(X_c, axis=0)\n",
    "            self.vars[i] = np.var(X_c, axis=0) + 1e-9  # Add small value to avoid division by zero\n",
    "            \n",
    "        return self\n",
    "    \n",
    "    def _calculate_likelihood(self, x, mean, var):\n",
    "        # Gaussian probability density function\n",
    "        return (1 / np.sqrt(2 * np.pi * var)) * np.exp(-((x - mean) ** 2) / (2 * var))\n",
    "    \n",
    "    def _calculate_class_probability(self, X, class_idx):\n",
    "        # Calculate probability of X belonging to given class\n",
    "        likelihood = np.ones((X.shape[0]))\n",
    "        for feature_idx in range(X.shape[1]):\n",
    "            likelihood *= self._calculate_likelihood(\n",
    "                X[:, feature_idx], \n",
    "                self.means[class_idx, feature_idx], \n",
    "                self.vars[class_idx, feature_idx]\n",
    "            )\n",
    "        return likelihood * self.priors[class_idx]\n",
    "    \n",
    "    def predict_proba(self, X):\n",
    "        # Get probabilities for each class\n",
    "        probs = np.zeros((X.shape[0], len(self.classes)))\n",
    "        for i, c in enumerate(self.classes):\n",
    "            probs[:, i] = self._calculate_class_probability(X, i)\n",
    "        \n",
    "        # Normalize probabilities\n",
    "        probs_sum = np.sum(probs, axis=1, keepdims=True)\n",
    "        return probs / probs_sum\n",
    "    \n",
    "    def predict(self, X):\n",
    "        # Return class with highest probability\n",
    "        return self.classes[np.argmax(self.predict_proba(X), axis=1)]"
   ]
  },
  {
   "cell_type": "code",
   "execution_count": 4,
   "metadata": {},
   "outputs": [],
   "source": [
    "X_train, X_test, y_train, y_test = train_test_split(X, y, test_size=0.2, random_state=42)"
   ]
  },
  {
   "cell_type": "code",
   "execution_count": 5,
   "metadata": {},
   "outputs": [],
   "source": [
    "scaler = StandardScaler()\n",
    "X_train_scaled = scaler.fit_transform(X_train)\n",
    "X_test_scaled = scaler.transform(X_test)"
   ]
  },
  {
   "cell_type": "code",
   "execution_count": 6,
   "metadata": {},
   "outputs": [
    {
     "name": "stdout",
     "output_type": "stream",
     "text": [
      "Custom model training time: 0.000563 seconds\n"
     ]
    }
   ],
   "source": [
    "custom_nb = CustomGaussianNB()\n",
    "custom_start_time = time.time()\n",
    "custom_nb.fit(X_train_scaled, y_train)\n",
    "custom_train_time = time.time() - custom_start_time\n",
    "print(f\"Custom model training time: {custom_train_time:.6f} seconds\")"
   ]
  },
  {
   "cell_type": "code",
   "execution_count": 7,
   "metadata": {},
   "outputs": [
    {
     "name": "stdout",
     "output_type": "stream",
     "text": [
      "Custom model accuracy: 0.9649\n"
     ]
    }
   ],
   "source": [
    "custom_predictions = custom_nb.predict(X_test_scaled)\n",
    "custom_accuracy = accuracy_score(y_test, custom_predictions)\n",
    "print(f\"Custom model accuracy: {custom_accuracy:.4f}\")"
   ]
  },
  {
   "cell_type": "code",
   "execution_count": 8,
   "metadata": {},
   "outputs": [
    {
     "name": "stdout",
     "output_type": "stream",
     "text": [
      "Custom model CV accuracy: 0.9367 (±0.0152)\n",
      "Custom model CV time: 0.013715 seconds\n"
     ]
    }
   ],
   "source": [
    "k_fold = KFold(n_splits=5, shuffle=True, random_state=42)\n",
    "custom_cv_scores = []\n",
    "\n",
    "custom_cv_start_time = time.time()\n",
    "for train_idx, test_idx in k_fold.split(X):\n",
    "    X_fold_train, X_fold_test = X[train_idx], X[test_idx]\n",
    "    y_fold_train, y_fold_test = y[train_idx], y[test_idx]\n",
    "    \n",
    "    # Scale the data\n",
    "    X_fold_train_scaled = scaler.fit_transform(X_fold_train)\n",
    "    X_fold_test_scaled = scaler.transform(X_fold_test)\n",
    "    \n",
    "    # Train and evaluate\n",
    "    model = CustomGaussianNB()\n",
    "    model.fit(X_fold_train_scaled, y_fold_train)\n",
    "    predictions = model.predict(X_fold_test_scaled)\n",
    "    custom_cv_scores.append(accuracy_score(y_fold_test, predictions))\n",
    "\n",
    "custom_cv_time = time.time() - custom_cv_start_time\n",
    "print(f\"Custom model CV accuracy: {np.mean(custom_cv_scores):.4f} (±{np.std(custom_cv_scores):.4f})\")\n",
    "print(f\"Custom model CV time: {custom_cv_time:.6f} seconds\")"
   ]
  },
  {
   "cell_type": "code",
   "execution_count": 9,
   "metadata": {},
   "outputs": [
    {
     "name": "stdout",
     "output_type": "stream",
     "text": [
      "Scikit-learn training time: 0.003001 seconds\n"
     ]
    }
   ],
   "source": [
    "sklearn_nb = GaussianNB()\n",
    "sklearn_start_time = time.time()\n",
    "sklearn_nb.fit(X_train_scaled, y_train)\n",
    "sklearn_train_time = time.time() - sklearn_start_time\n",
    "print(f\"Scikit-learn training time: {sklearn_train_time:.6f} seconds\")"
   ]
  },
  {
   "cell_type": "code",
   "execution_count": 10,
   "metadata": {},
   "outputs": [
    {
     "name": "stdout",
     "output_type": "stream",
     "text": [
      "Scikit-learn model accuracy: 0.9649\n"
     ]
    }
   ],
   "source": [
    "sklearn_predictions = sklearn_nb.predict(X_test_scaled)\n",
    "sklearn_accuracy = accuracy_score(y_test, sklearn_predictions)\n",
    "print(f\"Scikit-learn model accuracy: {sklearn_accuracy:.4f}\")"
   ]
  },
  {
   "cell_type": "code",
   "execution_count": 11,
   "metadata": {},
   "outputs": [
    {
     "name": "stdout",
     "output_type": "stream",
     "text": [
      "Scikit-learn CV accuracy: 0.9385 (±0.0201)\n",
      "Scikit-learn CV time: 0.012004 seconds\n"
     ]
    }
   ],
   "source": [
    "sklearn_cv_start_time = time.time()\n",
    "sklearn_cv_scores = cross_val_score(GaussianNB(), X, y, cv=k_fold)\n",
    "sklearn_cv_time = time.time() - sklearn_cv_start_time\n",
    "print(f\"Scikit-learn CV accuracy: {np.mean(sklearn_cv_scores):.4f} (±{np.std(sklearn_cv_scores):.4f})\")\n",
    "print(f\"Scikit-learn CV time: {sklearn_cv_time:.6f} seconds\")"
   ]
  },
  {
   "cell_type": "code",
   "execution_count": 12,
   "metadata": {},
   "outputs": [
    {
     "name": "stdout",
     "output_type": "stream",
     "text": [
      "Training time: Custom is 0.19x slower than scikit-learn\n",
      "CV time: Custom is 1.14x slower than scikit-learn\n",
      "Accuracy difference: 0.000000\n",
      "CV accuracy difference: -0.001739\n"
     ]
    }
   ],
   "source": [
    "print(f\"Training time: Custom is {custom_train_time/sklearn_train_time:.2f}x slower than scikit-learn\")\n",
    "print(f\"CV time: Custom is {custom_cv_time/sklearn_cv_time:.2f}x slower than scikit-learn\")\n",
    "print(f\"Accuracy difference: {custom_accuracy - sklearn_accuracy:.6f}\")\n",
    "print(f\"CV accuracy difference: {np.mean(custom_cv_scores) - np.mean(sklearn_cv_scores):.6f}\")"
   ]
  }
 ],
 "metadata": {
  "kernelspec": {
   "display_name": "jupyter_kernel",
   "language": "python",
   "name": "jupyter_kernel"
  },
  "language_info": {
   "codemirror_mode": {
    "name": "ipython",
    "version": 3
   },
   "file_extension": ".py",
   "mimetype": "text/x-python",
   "name": "python",
   "nbconvert_exporter": "python",
   "pygments_lexer": "ipython3",
   "version": "3.12.7"
  }
 },
 "nbformat": 4,
 "nbformat_minor": 2
}
